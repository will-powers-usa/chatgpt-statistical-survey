{
 "cells": [
  {
   "cell_type": "code",
   "execution_count": 1,
   "metadata": {},
   "outputs": [],
   "source": [
    "import os\n",
    "os.environ['API_KEY'] = open(\"../openAI.key\").read()\n",
    "import openai        \n",
    "client = openai.OpenAI(api_key=open(\"../openAI.key\").read())\n",
    "from openai.types import FileObject\n",
    "from openai.types.fine_tuning import FineTuningJob"
   ]
  },
  {
   "cell_type": "code",
   "execution_count": 2,
   "metadata": {},
   "outputs": [],
   "source": [
    "def fineTune(fileName):\n",
    "    file:FileObject = client.files.create(\n",
    "        file=open(fileName, \"rb\"),\n",
    "        purpose=\"fine-tune\"\n",
    "    )\n",
    "    id = file.id\n",
    "\n",
    "    job:FineTuningJob = client.fine_tuning.jobs.create(\n",
    "        training_file=id, \n",
    "        model=\"gpt-4o-mini-2024-07-18\"\n",
    "    )\n",
    "\n",
    "    print(fileName,job.id)"
   ]
  },
  {
   "cell_type": "code",
   "execution_count": 3,
   "metadata": {},
   "outputs": [
    {
     "name": "stdout",
     "output_type": "stream",
     "text": [
      "transfiguration-prompts-celeb.jsonl ftjob-4rvKnVACTsjsHtyfhXBtyRPy\n",
      "transfiguration-prompts-unknown.jsonl ftjob-fALIKTHqgHHtAHA4wGVdS3Qt\n"
     ]
    }
   ],
   "source": [
    "fineTune(\"transfiguration-prompts-celeb.jsonl\")\n",
    "fineTune(\"transfiguration-prompts-unknown.jsonl\")\n"
   ]
  },
  {
   "cell_type": "code",
   "execution_count": 16,
   "metadata": {},
   "outputs": [],
   "source": [
    "# transfiguration-prompts-celeb.jsonl ftjob-4rvKnVACTsjsHtyfhXBtyRPy ASbzY3Jh\n",
    "# transfiguration-prompts-unknown.jsonl ftjob-fALIKTHqgHHtAHA4wGVdS3Qt ASbzjz5M"
   ]
  },
  {
   "cell_type": "code",
   "execution_count": 19,
   "metadata": {},
   "outputs": [
    {
     "name": "stdout",
     "output_type": "stream",
     "text": [
      "ChatCompletionMessage(content='inbound relationship', refusal=None, role='assistant', function_call=None, tool_calls=None)\n"
     ]
    }
   ],
   "source": [
    "completion = client.chat.completions.create(\n",
    "  model=\"ft:gpt-4o-mini-2024-07-18:personal::AQ06p3qQ\",\n",
    "  messages=[\n",
    "    {\"role\": \"user\", \"content\": \"Who was Jan Ladislav Dussek's brother?\"}\n",
    "  ]\n",
    ")\n",
    "print(completion.choices[0].message.content)"
   ]
  }
 ],
 "metadata": {
  "kernelspec": {
   "display_name": "Python 3",
   "language": "python",
   "name": "python3"
  },
  "language_info": {
   "codemirror_mode": {
    "name": "ipython",
    "version": 3
   },
   "file_extension": ".py",
   "mimetype": "text/x-python",
   "name": "python",
   "nbconvert_exporter": "python",
   "pygments_lexer": "ipython3",
   "version": "3.9.6"
  }
 },
 "nbformat": 4,
 "nbformat_minor": 2
}

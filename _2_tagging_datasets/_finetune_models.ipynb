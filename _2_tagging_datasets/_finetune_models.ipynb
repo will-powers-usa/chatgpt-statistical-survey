{
 "cells": [
  {
   "cell_type": "code",
   "execution_count": 5,
   "metadata": {},
   "outputs": [],
   "source": [
    "import os\n",
    "os.environ['API_KEY'] = open(\"../openAI.key\").read()\n",
    "import openai        \n",
    "client = openai.OpenAI(api_key=open(\"../openAI.key\").read())\n",
    "from openai.types import FileObject\n",
    "from openai.types.fine_tuning import FineTuningJob"
   ]
  },
  {
   "cell_type": "code",
   "execution_count": 12,
   "metadata": {},
   "outputs": [],
   "source": [
    "def fineTune(fileName):\n",
    "    file:FileObject = client.files.create(\n",
    "        file=open(fileName, \"rb\"),\n",
    "        purpose=\"fine-tune\"\n",
    "    )\n",
    "    id = file.id\n",
    "\n",
    "    job:FineTuningJob = client.fine_tuning.jobs.create(\n",
    "        training_file=id, \n",
    "        model=\"gpt-4o-mini-2024-07-18\"\n",
    "    )\n",
    "\n",
    "    print(fileName,job.id)"
   ]
  },
  {
   "cell_type": "code",
   "execution_count": 20,
   "metadata": {},
   "outputs": [
    {
     "name": "stdout",
     "output_type": "stream",
     "text": [
      "grammar-prompts.jsonl ftjob-5PVoq50yUGjgTjsU5K5dh9cj\n",
      "industry-prompts.jsonl ftjob-9orpG1EoJnrLf8FPhBhofWMJ\n",
      "known-prompts.jsonl ftjob-UGPKhZJCUcGNFNIqN5thKbtP\n"
     ]
    }
   ],
   "source": [
    "# fineTune(\"direction-prompts.jsonl\")\n",
    "# fineTune(\"ethnicity-prompts.jsonl\")\n",
    "# fineTune(\"gender-known-prompts.jsonl\")\n",
    "# fineTune(\"gender-known-prompts.jsonl\")\n",
    "# fineTune(\"gender-unknown-prompts.jsonl\")\n",
    "fineTune(\"grammar-prompts.jsonl\")\n",
    "fineTune(\"industry-prompts.jsonl\")\n",
    "fineTune(\"known-prompts.jsonl\")"
   ]
  },
  {
   "cell_type": "code",
   "execution_count": 16,
   "metadata": {},
   "outputs": [],
   "source": [
    "# direction-prompts.jsonl ftjob-44oJbITmI2l9GW2VCBtwHN5n\n",
    "\n",
    "# ethnicity-prompts.jsonl ftjob-Bs3gKY0W1XfTTK94hfUH1L5I\n",
    "# gender-known-prompts.jsonl ftjob-xDHa5JlNRfIuyfVwQdJy5lmn\n",
    "# gender-known-prompts.jsonl ftjob-cpgQL8S1qRjFErJM0n79594z\n",
    "# gender-unknown-prompts.jsonl ftjob-syd5Lo2WjGcT4CrGQ54oy0tS\n",
    "# grammar-prompts.jsonl ftjob-5PVoq50yUGjgTjsU5K5dh9cj  AQ13kNPN\n",
    "# industry-prompts.jsonl ftjob-9orpG1EoJnrLf8FPhBhofWMJ  AQ17Llmj\n",
    "# known-prompts.jsonl ftjob-UGPKhZJCUcGNFNIqN5thKbtP AQ17J2Rn\n"
   ]
  },
  {
   "cell_type": "code",
   "execution_count": 19,
   "metadata": {},
   "outputs": [
    {
     "name": "stdout",
     "output_type": "stream",
     "text": [
      "ChatCompletionMessage(content='inbound relationship', refusal=None, role='assistant', function_call=None, tool_calls=None)\n"
     ]
    }
   ],
   "source": [
    "completion = client.chat.completions.create(\n",
    "  model=\"ft:gpt-4o-mini-2024-07-18:personal::AQ06p3qQ\",\n",
    "  messages=[\n",
    "    {\"role\": \"user\", \"content\": \"Who was Jan Ladislav Dussek's brother?\"}\n",
    "  ]\n",
    ")\n",
    "print(completion.choices[0].message.content)"
   ]
  }
 ],
 "metadata": {
  "kernelspec": {
   "display_name": "Python 3",
   "language": "python",
   "name": "python3"
  },
  "language_info": {
   "codemirror_mode": {
    "name": "ipython",
    "version": 3
   },
   "file_extension": ".py",
   "mimetype": "text/x-python",
   "name": "python",
   "nbconvert_exporter": "python",
   "pygments_lexer": "ipython3",
   "version": "3.9.6"
  }
 },
 "nbformat": 4,
 "nbformat_minor": 2
}
